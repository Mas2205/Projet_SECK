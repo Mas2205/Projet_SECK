{
 "cells": [
  {
   "cell_type": "markdown",
   "metadata": {
    "id": "i6ZxpPrwYu9x"
   },
   "source": [
    "# SECK Mouhamadou Abdoulaye\n",
    "# abdouseck.tiv@gmail.com"
   ]
  },
  {
   "cell_type": "code",
   "execution_count": 1,
   "metadata": {
    "ExecuteTime": {
     "end_time": "2021-02-18T11:34:20.846891Z",
     "start_time": "2021-02-18T11:34:20.533858Z"
    },
    "id": "RzGYKyI2Yu95"
   },
   "outputs": [],
   "source": [
    "import matplotlib.pyplot as plt\n",
    "import numpy as np\n",
    "\n",
    "#pour des animations\n",
    "from IPython.display import clear_output\n",
    "import time"
   ]
  },
  {
   "cell_type": "markdown",
   "metadata": {
    "id": "Xj_cLNzEYu96"
   },
   "source": [
    "Dans ce projet nous allons implémenter les differents éléments qui composent un réseau de neurones "
   ]
  },
  {
   "cell_type": "markdown",
   "metadata": {
    "id": "4fjKfsltYu98"
   },
   "source": [
    "# Dataset"
   ]
  },
  {
   "cell_type": "markdown",
   "metadata": {
    "id": "h7FJpptAYu99"
   },
   "source": [
    "Dans la première partie, nous allons essayer de prédire le prix de vente de biens immobiliers de la ville Boston.  \n",
    "Nous allons pour cela utiliser le classique jeu de données boston house-prices, disponible directement dans la librairie de machine learning [scikit-learn](https://scikit-learn.org/stable/modules/generated/sklearn.datasets.load_boston.html)  \n",
    "Commençons donc par importer le dataset:"
   ]
  },
  {
   "cell_type": "code",
   "execution_count": 2,
   "metadata": {
    "ExecuteTime": {
     "end_time": "2021-02-18T11:34:25.362898Z",
     "start_time": "2021-02-18T11:34:24.477263Z"
    },
    "id": "jH-L-U41Yu99"
   },
   "outputs": [],
   "source": [
    "from sklearn.datasets import load_boston\n",
    "dataset = load_boston()"
   ]
  },
  {
   "cell_type": "markdown",
   "metadata": {
    "id": "ZWBv3HBQYu9-"
   },
   "source": [
    "Nous allons donc essayer de prédire le prix des maisons à partir de 13 features présentées [ici](https://scikit-learn.org/stable/datasets/toy_dataset.html#boston-dataset).   \n",
    "\n",
    "Commençons par séparer le dataset en 2:\n",
    "* Un ensemble d'apprentissage pour entrainer le modèle\n",
    "* Un ensemble de test pour tester le modèle appris\n",
    "\n",
    "Utilisez la méthode [train_test_split](https://scikit-learn.org/stable/modules/generated/sklearn.model_selection.train_test_split.html) de scikit-learn pour séparer le dataset de la façon suivante:\n",
    "* ```X_train``` -> les features pour entrainer le modèle\n",
    "* ```y_train``` -> les prix à prédire durant l'apprentissage\n",
    "* ```X_test``` -> les features pour tester le modèle\n",
    "* ```y_test``` -> les prix à prédire pour tester le modèle  "
   ]
  },
  {
   "cell_type": "code",
   "execution_count": 3,
   "metadata": {
    "ExecuteTime": {
     "end_time": "2021-02-18T11:34:27.301659Z",
     "start_time": "2021-02-18T11:34:27.294833Z"
    },
    "id": "n8rwQT2BYu-H"
   },
   "outputs": [
    {
     "name": "stdout",
     "output_type": "stream",
     "text": [
      "data :  <class 'numpy.ndarray'>\n",
      "(506, 13) \n",
      "\n",
      "target :  <class 'numpy.ndarray'>\n",
      "(506, 1)\n"
     ]
    }
   ],
   "source": [
    "data = np.asarray(dataset.data, dtype='float32')\n",
    "target = np.asarray(dataset.target.reshape(-1, 1), dtype='float32')\n",
    "\n",
    "print(\"data : \", type(data))\n",
    "print(data.shape, \"\\n\")\n",
    "\n",
    "print(\"target : \", type(target))\n",
    "print(target.shape)"
   ]
  },
  {
   "cell_type": "code",
   "execution_count": 4,
   "metadata": {
    "ExecuteTime": {
     "end_time": "2021-02-18T11:34:30.742421Z",
     "start_time": "2021-02-18T11:34:30.699389Z"
    }
   },
   "outputs": [],
   "source": [
    "from sklearn.model_selection import train_test_split\n",
    "\n",
    "X_train, X_test, y_train, y_test = train_test_split(data, target, test_size=0.2, random_state=0)"
   ]
  },
  {
   "cell_type": "code",
   "execution_count": 5,
   "metadata": {
    "ExecuteTime": {
     "end_time": "2021-02-18T11:34:31.474118Z",
     "start_time": "2021-02-18T11:34:31.468716Z"
    }
   },
   "outputs": [
    {
     "name": "stdout",
     "output_type": "stream",
     "text": [
      "(404, 13)\n",
      "(102, 13)\n",
      "(404, 1)\n",
      "(102, 1)\n"
     ]
    }
   ],
   "source": [
    "print(X_train.shape)\n",
    "print(X_test.shape)\n",
    "print(y_train.shape)\n",
    "print(y_test.shape)"
   ]
  },
  {
   "cell_type": "markdown",
   "metadata": {
    "id": "VLr2_t4nYu-I"
   },
   "source": [
    "Parmi les bonnes pratiques permettant d'améliorer l'apprentissage des réseaux de neurones, il est important de normaliser les données en entrée pour obtenir un moyenne proche de 0 et une variance à 1.  \n",
    "Utilisez la méthode [StandardScaler](https://scikit-learn.org/stable/modules/generated/sklearn.preprocessing.StandardScaler.html) de scikit-learn pour normaliser ```X_train``` et ```X_test``` ainsi que ```y_train``` et ```y_test```:"
   ]
  },
  {
   "cell_type": "code",
   "execution_count": 6,
   "metadata": {
    "ExecuteTime": {
     "end_time": "2021-02-18T11:34:32.557556Z",
     "start_time": "2021-02-18T11:34:32.550885Z"
    },
    "id": "XnGt7KT_Yu-I"
   },
   "outputs": [],
   "source": [
    "from sklearn.preprocessing import StandardScaler\n",
    "\n",
    "stdx = StandardScaler()\n",
    "\n",
    "X_train = stdx.fit_transform(X_train)\n",
    "X_test = stdx.transform(X_test)"
   ]
  },
  {
   "cell_type": "code",
   "execution_count": 7,
   "metadata": {
    "ExecuteTime": {
     "end_time": "2021-02-18T11:34:33.128738Z",
     "start_time": "2021-02-18T11:34:33.124228Z"
    }
   },
   "outputs": [],
   "source": [
    "stdy = StandardScaler()\n",
    "\n",
    "y_train = stdy.fit_transform(y_train)\n",
    "y_test = stdy.transform(y_test)"
   ]
  },
  {
   "cell_type": "markdown",
   "metadata": {
    "id": "WnpEWfHXYu-K"
   },
   "source": [
    "# Réseaux de neurones"
   ]
  },
  {
   "cell_type": "markdown",
   "metadata": {
    "id": "41rRO3dDYu-L"
   },
   "source": [
    "Nous allons construire nos réseaux de neurones comme des successions de couches.  \n",
    "Nous distinguerons, similairement aux frameworks les plus courants (Tensorflow, Pytorch, Keras ...), deux types de couches:\n",
    "* des couches de poids et gradients\n",
    "* des couches d'activations \n",
    "\n",
    "Chaque couche possèdera:\n",
    "* une méthode ```forward``` qui recevra en entrée un vecteur $x$ auquel sera appliqué une transformation qui servira d'inputs pour les couches suivantes\n",
    "* une méthode ```backward``` qui recevra en entrée des gradients et les retropopages vers les couches précédentes. \n",
    "* un argument ```layer_type``` permettant de définir le type de couche\n",
    "\n",
    "La classe suivante définit la structure d'une couche:"
   ]
  },
  {
   "cell_type": "code",
   "execution_count": 8,
   "metadata": {
    "ExecuteTime": {
     "end_time": "2021-02-18T11:34:34.712625Z",
     "start_time": "2021-02-18T11:34:34.702573Z"
    },
    "id": "pi1Eef3uYu-L"
   },
   "outputs": [],
   "source": [
    "class Layer:\n",
    "    def __init__(self):\n",
    "        self.layer_type = 'abstract'\n",
    "\n",
    "    def forward(self, inputs):\n",
    "        pass\n",
    "    \n",
    "    def backward(self, grad):\n",
    "        pass"
   ]
  },
  {
   "cell_type": "markdown",
   "metadata": {
    "id": "PV7ZaM-MYu-M"
   },
   "source": [
    "Un réseau de neurones sera donc une classe:\n",
    "* contenant une liste de couches\n",
    "* possédant une méthode ```forward``` (qui fera appel aux méthodes ```forward``` de ses couches) qui pour un vecteur $x$ fournira une prédiction $\\hat{y}$\n",
    "* et une méthode ```backward``` (composition des méthodes ```backward``` de ses couches) qui rétropopagera les gradients depuis sa sortie jusqu'a ses premières couches."
   ]
  },
  {
   "cell_type": "markdown",
   "metadata": {
    "id": "ChW_stmIYu-M"
   },
   "source": [
    "![NeuralNetwork](https://github.com/DavidBert/TP-MAPI3/blob/master/layers.png?raw=1)"
   ]
  },
  {
   "cell_type": "markdown",
   "metadata": {
    "id": "PxfXkUbOYu-N"
   },
   "source": [
    "# Layers"
   ]
  },
  {
   "cell_type": "markdown",
   "metadata": {
    "id": "s4-onA9JYu-N"
   },
   "source": [
    "Nous allons maintenant implémenter les couches de notre réseau.  \n",
    "Commençons par les couches \"linéaires\" composées de poids $W$ et de biais $b$.  \n",
    "Ces couches reçoivent en entrée un vecteur $x$ et retournent en sortie le résultat de $xW + b$.\n",
    "\n",
    "Complétez la definition de la classe LinearLayer:\n",
    "* les poids et les biais serons stockés dans un dictionnaire \"params\". Les poids seront une matrice $input \\times output$ initialisée uniformémént entre $[-0.1, 0.1]$ (pensez à la fonction random.uniform de numpy)\n",
    "* implémentez la méthode forward (vous pouvez utiliser la fonction np.matmul pour calculer $xW$), il faudra garder en mémoire le vecteur d'entrées qui sera utilisé lors de l'appel à la méthode backward:"
   ]
  },
  {
   "cell_type": "code",
   "execution_count": 9,
   "metadata": {
    "ExecuteTime": {
     "end_time": "2021-02-18T11:34:37.277996Z",
     "start_time": "2021-02-18T11:34:37.274053Z"
    }
   },
   "outputs": [],
   "source": [
    "import numpy.random as npr"
   ]
  },
  {
   "cell_type": "code",
   "execution_count": 10,
   "metadata": {
    "ExecuteTime": {
     "end_time": "2021-02-18T11:34:38.311650Z",
     "start_time": "2021-02-18T11:34:38.292175Z"
    },
    "id": "uPfpVTeGYu-N"
   },
   "outputs": [],
   "source": [
    "class Linear(Layer):\n",
    "    def __init__(self, input_size, output_size):\n",
    "        super().__init__()\n",
    "        \n",
    "        self.layer_type = 'linear'\n",
    "        self.params = {}\n",
    "        self.grads = {}\n",
    "        #weights est la matrice [input x output] contenant les poids de la couche \n",
    "        self.params[\"weights\"] = npr.uniform(-0.1, 0.1, (input_size, output_size))\n",
    "        #biais est un vecteur de dimension: (output_size)\n",
    "        self.params[\"bias\"] = npr.uniform(-0.1, 0.1, output_size)\n",
    "\n",
    "    def forward(self, inputs):\n",
    "        #outputs = inputs @ weights + biais\n",
    "        #Nous devons garder en mémoire les inputs car ils seront utilisés dans la méthode backward\n",
    "        self.inputs = inputs\n",
    "        return np.matmul(self.inputs, self.params[\"weights\"]) + self.params[\"bias\"]\n",
    "    \n",
    "    def backward(self, grad):\n",
    "        # we need so sum gradients over the batch axis\n",
    "        self.grads[\"weights\"] = np.matmul(self.inputs.T, grad)\n",
    "        self.grads[\"bias\"] = np.sum(grad, axis=0)\n",
    "        return np.matmul(grad, self.params[\"weights\"].T)"
   ]
  },
  {
   "cell_type": "markdown",
   "metadata": {
    "id": "PPfYWrfdYu-N"
   },
   "source": [
    "Testez votre layer, la cellule suivante ne doit pas renvoyer d'erreur:"
   ]
  },
  {
   "cell_type": "code",
   "execution_count": 11,
   "metadata": {
    "ExecuteTime": {
     "end_time": "2021-02-18T11:34:47.686849Z",
     "start_time": "2021-02-18T11:34:47.682223Z"
    },
    "id": "B3QVA1fVYu-N"
   },
   "outputs": [],
   "source": [
    "input_size, output_size = 10, 5\n",
    "X = np.random.rand(input_size)\n",
    "grads = np.random.rand(10, 5)\n",
    "test_linear_layer = Linear(input_size, output_size)\n",
    "\n",
    "assert test_linear_layer.forward(X).shape == (5,)\n",
    "assert test_linear_layer.backward(grads).shape == (10, 10)"
   ]
  },
  {
   "cell_type": "markdown",
   "metadata": {
    "id": "ALle91hrYu-O"
   },
   "source": [
    "## Activation Layers"
   ]
  },
  {
   "cell_type": "markdown",
   "metadata": {
    "id": "H-WJvNFCYu-O"
   },
   "source": [
    "Nous allons maintenant implémenter les fonctions d'activation utilisées par les neurones.  \n",
    "Implémentez une fonction d'activation ainsi que sa dérivée (par exemple la fonction ReLU: $f(x) = max(0,x)$:"
   ]
  },
  {
   "cell_type": "code",
   "execution_count": 12,
   "metadata": {
    "ExecuteTime": {
     "end_time": "2021-02-18T11:34:49.533082Z",
     "start_time": "2021-02-18T11:34:49.520927Z"
    },
    "id": "snXgjlxvYu-P"
   },
   "outputs": [],
   "source": [
    "def relu(x):\n",
    "    return np.maximum(0, x)\n",
    "\n",
    "def relu_prime(x):\n",
    "    return np.where(x > 0, 1.0, 0.0)"
   ]
  },
  {
   "cell_type": "markdown",
   "metadata": {
    "id": "s_bVNafDYu-P"
   },
   "source": [
    "Implémentez maintenant les couches d'activations:  \n",
    "Elles seront initialisées à partir d'une fonction $f$ et de sa dérivée"
   ]
  },
  {
   "cell_type": "code",
   "execution_count": 13,
   "metadata": {
    "ExecuteTime": {
     "end_time": "2021-02-18T11:34:50.274417Z",
     "start_time": "2021-02-18T11:34:50.269173Z"
    },
    "id": "f7MYfSnQYu-P"
   },
   "outputs": [],
   "source": [
    "class Activation(Layer):\n",
    "    def __init__(self, f, f_prime):\n",
    "        super().__init__()\n",
    "        self.layer_type = 'activation'\n",
    "        self.f = f\n",
    "        self.f_prime = f_prime\n",
    "\n",
    "    def forward(self, inputs):\n",
    "        #Nous devons garder en mémoire les inputs car ils seront utilisés dans la méthode backward\n",
    "        self.inputs = inputs\n",
    "        return self.f(inputs)\n",
    "    \n",
    "    def backward(self, grad):\n",
    "        \"\"\" si y = f(x) et x = g(z)\n",
    "        alors dy/dz = f'(x) * g'(z)\n",
    "        Dans notre cas g'(z) correspond aux gradients en entrée\n",
    "        \"\"\"\n",
    "        return self.f_prime(self.inputs) * grad"
   ]
  },
  {
   "cell_type": "markdown",
   "metadata": {
    "id": "nDUd114uYu-Q"
   },
   "source": [
    "Testez votre couche d'activation.  \n",
    "La cellule suivante ne dois pas renvoyer d'erreur:"
   ]
  },
  {
   "cell_type": "code",
   "execution_count": 14,
   "metadata": {
    "ExecuteTime": {
     "end_time": "2021-02-18T11:34:54.584213Z",
     "start_time": "2021-02-18T11:34:54.577727Z"
    },
    "id": "6u-pRcbsYu-Q"
   },
   "outputs": [],
   "source": [
    "relu_layer = Activation(f=relu, f_prime=relu_prime)\n",
    "\n",
    "#forward\n",
    "x = np.array([-1, 5, -2, 6])\n",
    "y = relu_layer.forward(x)\n",
    "assert np.array_equal(y, np.array([0, 5, 0, 6]))\n",
    "\n",
    "#backward\n",
    "incomming_grads = np.array([-0.1, 0.6, -0.4, -0.1])\n",
    "grads = relu_layer.backward(incomming_grads)\n",
    "assert np.array_equal(grads, np.array([-0. ,  0.6, -0. , -0.1]))"
   ]
  },
  {
   "cell_type": "markdown",
   "metadata": {
    "id": "vQcb-PKlYu-Q"
   },
   "source": [
    "## Neural network"
   ]
  },
  {
   "cell_type": "markdown",
   "metadata": {
    "id": "y4B9umGnYu-Q"
   },
   "source": [
    "Nous allons maintenant définir la classe qui sera utilisée pour représenter nos réseaux de neurones.  \n",
    "Un réseau de neurones possédera une liste de couches et deux méthodes: ```forward``` et ```backward```.  \n",
    "\n",
    "Complétez la méthode ```forward``` et la méthode ```backward``` de la classe NeuralNetwork en utilisant les methodes ```forward``` et ```backward``` des couches du réseau:"
   ]
  },
  {
   "cell_type": "code",
   "execution_count": 15,
   "metadata": {
    "ExecuteTime": {
     "end_time": "2021-02-18T11:34:55.861512Z",
     "start_time": "2021-02-18T11:34:55.857051Z"
    },
    "id": "-7wzQJvCYu-Q"
   },
   "outputs": [],
   "source": [
    "class NeuralNetwork:\n",
    "    def __init__(self, layers):\n",
    "        self.layers = layers\n",
    "\n",
    "    def forward(self, inputs):    \n",
    "        for layers in self.layers:\n",
    "            inputs = layers.forward(inputs)\n",
    "        return inputs\n",
    "\n",
    "    def backward(self, grad):\n",
    "        for layers in self.layers[::-1]:\n",
    "            grad = layers.backward(grad)"
   ]
  },
  {
   "cell_type": "markdown",
   "metadata": {
    "id": "f4g7NHOwYu-R"
   },
   "source": [
    "Nous avons maintenant tous les éléments constituant un réseau de neurones.  \n",
    "Instanciez un reseau de neurones constitué de 3 couches:\n",
    "* une couche d'entrée recevant un vecteur de dimension 13 et constituée de 40 neurones\n",
    "* une couche cachée de 40 neurones\n",
    "* une couche de sortie constituée d'un seul neurone"
   ]
  },
  {
   "cell_type": "code",
   "execution_count": 16,
   "metadata": {
    "ExecuteTime": {
     "end_time": "2021-02-18T11:34:57.167819Z",
     "start_time": "2021-02-18T11:34:57.161729Z"
    },
    "id": "WVW1z3KuYu-R"
   },
   "outputs": [],
   "source": [
    "layer1 = Linear(13, 40)\n",
    "activ1 = Activation(relu, relu_prime)\n",
    "layer2 = Linear(40, 40)\n",
    "activ2 = Activation(relu, relu_prime)\n",
    "layer3 = Linear(40, 1)\n",
    "\n",
    "Layer = [layer1, activ1, layer2, activ2, layer3]\n",
    "\n",
    "net = NeuralNetwork(Layer)"
   ]
  },
  {
   "cell_type": "markdown",
   "metadata": {
    "id": "Rf8NeoNqYu-S"
   },
   "source": [
    "Testez votre réseau sur le jeu de test:"
   ]
  },
  {
   "cell_type": "code",
   "execution_count": 17,
   "metadata": {
    "ExecuteTime": {
     "end_time": "2021-02-18T11:34:59.631720Z",
     "start_time": "2021-02-18T11:34:59.317516Z"
    },
    "id": "F7cozFj_Yu-S"
   },
   "outputs": [
    {
     "name": "stdout",
     "output_type": "stream",
     "text": [
      "0.6717128869443015\n"
     ]
    },
    {
     "data": {
      "image/png": "[encoded data removed]",
      "text/plain": [
       "<Figure size 1440x360 with 1 Axes>"
      ]
     },
     "metadata": {
      "needs_background": "light"
     },
     "output_type": "display_data"
    }
   ],
   "source": [
    "from sklearn.metrics import mean_absolute_error\n",
    "\n",
    "y_pred = net.forward(X_test)\n",
    "print(mean_absolute_error(y_pred, y_test))\n",
    "    \n",
    "plt.figure(figsize=(20,5))\n",
    "plt.scatter(range(len(y_test)), stdy.inverse_transform(y_test), label='target', alpha=0.8)\n",
    "plt.scatter(range(len(y_test)), stdy.inverse_transform(y_pred), label='prediction', alpha=0.8)\n",
    "plt.legend()\n",
    "plt.show()"
   ]
  },
  {
   "cell_type": "markdown",
   "metadata": {
    "id": "IU6qtdYrYu-T"
   },
   "source": [
    "# Loss function"
   ]
  },
  {
   "cell_type": "markdown",
   "metadata": {
    "id": "aNsic9eeYu-T"
   },
   "source": [
    "Les prédictions du réseau sont mauvaises.  \n",
    "C'est normal on ne l'a pas encore entrainé.  \n",
    "Commençons par implémenter la fonction de perte qu'utilisera le réseau de neurones lors de son apprentissage.  \n",
    "Nous sommes ici dans un problème de régression, nous utiliserons l'erreur quadratique moyenne (Mean Squared Error) pour apprendre notre modèle:\n",
    "$$\\sum_{i}^{n}\\frac{(f(x_i) - y_i)^2}{n}$$  \n",
    "Implémentez la fonction de perte ainsi que sa dérivée qui sera utilisée lors de la retro-propagation:"
   ]
  },
  {
   "cell_type": "code",
   "execution_count": 18,
   "metadata": {
    "ExecuteTime": {
     "end_time": "2021-02-18T11:35:01.994020Z",
     "start_time": "2021-02-18T11:35:01.988996Z"
    },
    "id": "P0K2tjhuYu-T"
   },
   "outputs": [],
   "source": [
    "class MSE():\n",
    "\n",
    "    def loss(self, y_pred, y_true):\n",
    "        #returns a scalar\n",
    "        return np.mean((y_pred - y_true) ** 2)\n",
    "    \n",
    "    def grad(self, y_pred, y_true):\n",
    "        #returns a tensor of gradients\n",
    "        return 2 * (y_pred - y_true)"
   ]
  },
  {
   "cell_type": "markdown",
   "metadata": {
    "id": "s6olrHzDYu-T"
   },
   "source": [
    "# Optimizer"
   ]
  },
  {
   "cell_type": "markdown",
   "metadata": {
    "id": "Y0-IGRAFYu-T"
   },
   "source": [
    "Nous allons maintenant implémenter la méthode d'optimisation utilisée durant l'apprentissage.  \n",
    "Nous utiliserons ici la descente de gradient stochastique.  \n",
    "La méthode est simple: à chaque pas nous allons mettre à jour les paramètres du réseau grace à la formule suivante: $w_{t+1} = w_t - \\eta \\nabla$ où $\\eta$ est le learning rate."
   ]
  },
  {
   "cell_type": "code",
   "execution_count": 19,
   "metadata": {
    "ExecuteTime": {
     "end_time": "2021-02-18T11:35:03.534157Z",
     "start_time": "2021-02-18T11:35:03.528927Z"
    },
    "id": "SKO67-CTYu-U"
   },
   "outputs": [],
   "source": [
    "class SGD():\n",
    "    def __init__(self, lr=0.001):\n",
    "        self.lr = lr\n",
    "    \n",
    "    def step(self, net):\n",
    "        for layer in net.layers:\n",
    "            if layer.layer_type == 'linear':\n",
    "                for param, grad in zip(layer.params.values(), layer.grads.values()):\n",
    "                    param -= self.lr * grad"
   ]
  },
  {
   "cell_type": "markdown",
   "metadata": {
    "id": "9Cd9qvGwYu-U"
   },
   "source": [
    "# Fit function"
   ]
  },
  {
   "cell_type": "markdown",
   "metadata": {
    "id": "yVkuTtS7Yu-U"
   },
   "source": [
    "Il ne reste plus qu'à implémenter la fonction fit qui réalise une époque d'apprentissage.  \n",
    "La fonction doit:\n",
    "* calculer les predictions du réseau sur le batch d'apprentissage\n",
    "* calculer la loss\n",
    "* calculer le gradient de la loss\n",
    "* retropropager les gradients\n",
    "* realiser un pas d'optimisation\n",
    "* retourner la perte "
   ]
  },
  {
   "cell_type": "code",
   "execution_count": 20,
   "metadata": {
    "ExecuteTime": {
     "end_time": "2021-02-18T11:35:04.865273Z",
     "start_time": "2021-02-18T11:35:04.860996Z"
    },
    "id": "0wpRP4NNYu-V"
   },
   "outputs": [],
   "source": [
    "def fit(net, loss, optimizer, X, y):\n",
    "    \n",
    "    y_pred = net.forward(X)\n",
    "    pred_loss = loss.loss(y_pred, y)\n",
    "    pred_loss_grad = loss.grad(y_pred, y)\n",
    "    net.backward(pred_loss_grad)\n",
    "    optimizer.step(net)\n",
    "    \n",
    "    return pred_loss"
   ]
  },
  {
   "cell_type": "markdown",
   "metadata": {
    "id": "XYabi61yYu-V"
   },
   "source": [
    "On peut maintenant entrainer notre réseau:"
   ]
  },
  {
   "cell_type": "markdown",
   "metadata": {},
   "source": [
    "<font : color=\"blue\">\n",
    "    On a un peu modifié le code, on a utilisé une méthode qui permet de faire l'animation directement sur le notebook au lieu de créer et télécharger un gif qui ne marche pas si on utilise pas Ubuntu."
   ]
  },
  {
   "cell_type": "code",
   "execution_count": 29,
   "metadata": {
    "ExecuteTime": {
     "end_time": "2021-02-18T11:35:39.095956Z",
     "start_time": "2021-02-18T11:35:06.879990Z"
    }
   },
   "outputs": [
    {
     "data": {
      "image/png": "[encoded data removed]",
      "text/plain": [
       "<Figure size 1440x360 with 1 Axes>"
      ]
     },
     "metadata": {
      "needs_background": "light"
     },
     "output_type": "display_data"
    }
   ],
   "source": [
    "#%%capture\n",
    "#import matplotlib \n",
    "#matplotlib.use('Agg')\n",
    "\n",
    "layer1 = Linear(13, 40)\n",
    "activ1 = Activation(relu, relu_prime)\n",
    "layer2 = Linear(40, 40)\n",
    "activ2 = Activation(relu, relu_prime)\n",
    "layer3 = Linear(40, 1)\n",
    "Layer = [layer1, activ1, layer2, activ2, layer3]\n",
    "net = NeuralNetwork(Layer)\n",
    "\n",
    "optimizer = SGD(lr=0.01)\n",
    "loss = MSE()\n",
    "\n",
    "for i, (x, y) in enumerate(zip(X_train, y_train)):\n",
    "    \n",
    "    training_loss = fit(net, loss, optimizer, np.array([x]), np.array([y]))\n",
    "    y_pred = net.forward(X_test)\n",
    "    \n",
    "    #cette boucle sert à visualiser la precision au cours des batchs\n",
    "    if i%5 == 0:\n",
    "        clear_output(wait = True)\n",
    "        plt.figure(figsize=(20,5))\n",
    "        plt.title(f\"batch {i}\")\n",
    "        plt.scatter(range(len(y_test)), stdy.inverse_transform(y_test), label='target')\n",
    "        plt.scatter(range(len(y_test)), stdy.inverse_transform(y_pred), label='prediction')\n",
    "        plt.xlim(-10, 110)\n",
    "        plt.ylim(-10, 60)\n",
    "        plt.legend()\n",
    "        #plt.savefig(f'test{100 + k}.png')\n",
    "        #plt.close(fig)\n",
    "        plt.show()\n",
    "        time.sleep(0.1)"
   ]
  },
  {
   "cell_type": "code",
   "execution_count": 30,
   "metadata": {
    "ExecuteTime": {
     "end_time": "2021-02-18T11:36:55.756562Z",
     "start_time": "2021-02-18T11:36:55.750561Z"
    }
   },
   "outputs": [
    {
     "name": "stdout",
     "output_type": "stream",
     "text": [
      "mean absolute error:  0.4487777563377811\n"
     ]
    }
   ],
   "source": [
    "print('mean absolute error: ', mean_absolute_error(y_pred, y_test))"
   ]
  },
  {
   "cell_type": "markdown",
   "metadata": {
    "id": "-xN-7Tf4uG0y"
   },
   "source": [
    "Les cellules suivantes montrent la progression de l' entrainement durant le batch:"
   ]
  },
  {
   "cell_type": "code",
   "execution_count": 31,
   "metadata": {
    "ExecuteTime": {
     "end_time": "2021-02-18T11:36:58.761108Z",
     "start_time": "2021-02-18T11:36:58.758361Z"
    }
   },
   "outputs": [],
   "source": [
    "#%%capture\n",
    "#!apt-get update\n",
    "#!apt-get install imagemagick\n",
    "#!convert -delay 40 *.png animated_chart.gif"
   ]
  },
  {
   "cell_type": "code",
   "execution_count": 32,
   "metadata": {
    "ExecuteTime": {
     "end_time": "2021-02-18T11:36:59.258567Z",
     "start_time": "2021-02-18T11:36:59.255422Z"
    }
   },
   "outputs": [],
   "source": [
    "#from IPython.display import Image\n",
    "#Image(open('animated_chart.gif','rb').read())"
   ]
  },
  {
   "cell_type": "markdown",
   "metadata": {
    "id": "aV7SytaiYu-V"
   },
   "source": [
    "Nous venons de réaliser un entrainement sur une époque.  \n",
    "Entrainez votre réseau sur 10 époques et comparez les resultats:"
   ]
  },
  {
   "cell_type": "code",
   "execution_count": 33,
   "metadata": {
    "ExecuteTime": {
     "end_time": "2021-02-18T11:37:45.697639Z",
     "start_time": "2021-02-18T11:37:44.809760Z"
    },
    "scrolled": false
   },
   "outputs": [
    {
     "name": "stdout",
     "output_type": "stream",
     "text": [
      "epoch 1 : 0.4365181757570591\n",
      "epoch 2 : 0.3608220196680755\n",
      "epoch 3 : 0.3422062074887933\n",
      "epoch 4 : 0.33083101941123727\n",
      "epoch 5 : 0.3224619479737681\n",
      "epoch 6 : 0.31629615646325526\n",
      "epoch 7 : 0.31764905730475845\n",
      "epoch 8 : 0.3184326603806591\n",
      "epoch 9 : 0.32214565213534685\n",
      "epoch 10 : 0.32771520965528667\n"
     ]
    }
   ],
   "source": [
    "layer1 = Linear(13, 40)\n",
    "activ1 = Activation(relu, relu_prime)\n",
    "layer2 = Linear(40, 13)\n",
    "activ2 = Activation(relu, relu_prime)\n",
    "layer3 = Linear(13, 1)\n",
    "Layer = [layer1, activ1, layer2, activ2, layer3]\n",
    "net = NeuralNetwork(Layer)\n",
    "\n",
    "optimizer = SGD(lr=0.01)\n",
    "loss = MSE()\n",
    "\n",
    "for epoch in range(10):\n",
    "    for i, (x, y) in enumerate(zip(X_train, y_train)):\n",
    "        training_loss = fit(net, loss, optimizer, np.array([x]), np.array([y]))\n",
    "\n",
    "    y_pred = net.forward(X_test)\n",
    "    print(f\"epoch {epoch+1} : {mean_absolute_error(y_pred, y_test)}\")"
   ]
  },
  {
   "cell_type": "markdown",
   "metadata": {},
   "source": [
    "<font : color=\"blue\">\n",
    "    Le meilleur score est obtenue à l'époque 1, ensuite pour les autres époques le score se fluctue autour de 0.31."
   ]
  },
  {
   "cell_type": "markdown",
   "metadata": {
    "id": "TuVz4NXAYu-V"
   },
   "source": [
    "# Digits"
   ]
  },
  {
   "cell_type": "markdown",
   "metadata": {
    "id": "ECKsiD9AYu-W"
   },
   "source": [
    "Essayons maintenant notre classe ```NeuralNetwork``` sur un problème de classification.  \n",
    "Nous allons chercher à classifier des chiffres manuscrits à partir des pixels.  \n",
    "Nous utiliserons pour cela le dataset [digits de scikit-learn](https://scikit-learn.org/stable/modules/generated/sklearn.datasets.load_digits.html)"
   ]
  },
  {
   "cell_type": "code",
   "execution_count": 34,
   "metadata": {
    "ExecuteTime": {
     "end_time": "2021-02-18T11:38:51.361318Z",
     "start_time": "2021-02-18T11:38:51.271460Z"
    },
    "id": "x6duZymXYu-W"
   },
   "outputs": [],
   "source": [
    "from sklearn.datasets import load_digits\n",
    "\n",
    "dataset = load_digits()"
   ]
  },
  {
   "cell_type": "code",
   "execution_count": 35,
   "metadata": {
    "ExecuteTime": {
     "end_time": "2021-02-18T11:38:51.677106Z",
     "start_time": "2021-02-18T11:38:51.665713Z"
    }
   },
   "outputs": [
    {
     "data": {
      "text/plain": [
       "array([0, 1, 2, 3, 4, 5, 6, 7, 8, 9])"
      ]
     },
     "execution_count": 35,
     "metadata": {},
     "output_type": "execute_result"
    }
   ],
   "source": [
    "dataset.target_names"
   ]
  },
  {
   "cell_type": "markdown",
   "metadata": {
    "id": "eO6FlSYiYu-X"
   },
   "source": [
    "Affichez les 10 premiers éléments du dataset:"
   ]
  },
  {
   "cell_type": "code",
   "execution_count": 36,
   "metadata": {
    "ExecuteTime": {
     "end_time": "2021-02-18T11:38:52.841820Z",
     "start_time": "2021-02-18T11:38:52.837499Z"
    }
   },
   "outputs": [],
   "source": [
    "data = np.asarray(dataset.data, dtype='float32')\n",
    "target = np.asarray(dataset.target, dtype='int32')"
   ]
  },
  {
   "cell_type": "code",
   "execution_count": 37,
   "metadata": {
    "ExecuteTime": {
     "end_time": "2021-02-18T11:38:53.128144Z",
     "start_time": "2021-02-18T11:38:53.121863Z"
    }
   },
   "outputs": [
    {
     "name": "stdout",
     "output_type": "stream",
     "text": [
      "(1797, 64)\n",
      "<class 'numpy.ndarray'> \n",
      "\n",
      "(1797,)\n",
      "<class 'numpy.ndarray'>\n"
     ]
    }
   ],
   "source": [
    "print(data.shape)\n",
    "print(type(data), \"\\n\")\n",
    "\n",
    "print(target.shape)\n",
    "print(type(target))"
   ]
  },
  {
   "cell_type": "code",
   "execution_count": 38,
   "metadata": {
    "ExecuteTime": {
     "end_time": "2021-02-18T11:38:54.443014Z",
     "start_time": "2021-02-18T11:38:53.450867Z"
    }
   },
   "outputs": [
    {
     "data": {
      "image/png": "[encoded data removed]",
      "text/plain": [
       "<Figure size 1080x432 with 10 Axes>"
      ]
     },
     "metadata": {
      "needs_background": "light"
     },
     "output_type": "display_data"
    }
   ],
   "source": [
    "plt.figure(figsize=(15, 6))\n",
    "for i in range(1, 11):\n",
    "    plt.subplot(2, 5, i)\n",
    "    plt.imshow(data[i-1].reshape(8, 8), cmap=\"gray\")\n",
    "plt.show()"
   ]
  },
  {
   "cell_type": "markdown",
   "metadata": {
    "id": "qhs6rfb9Yu-Y"
   },
   "source": [
    "Similairement au dataset précédent, séparez votre jeu de données en deux et normalisez les vecteurs d'entrées. (Pas la peine cette fois çi de normaliser les $y$)\n"
   ]
  },
  {
   "cell_type": "code",
   "execution_count": 39,
   "metadata": {
    "ExecuteTime": {
     "end_time": "2021-02-18T11:39:04.382814Z",
     "start_time": "2021-02-18T11:39:04.375875Z"
    },
    "id": "HYx9BLLCYu-Y"
   },
   "outputs": [],
   "source": [
    "from sklearn.model_selection import train_test_split\n",
    "\n",
    "X_train, X_test, y_train, y_test = train_test_split(data, target, test_size=0.2, random_state=0)"
   ]
  },
  {
   "cell_type": "code",
   "execution_count": 40,
   "metadata": {
    "ExecuteTime": {
     "end_time": "2021-02-18T11:39:04.725382Z",
     "start_time": "2021-02-18T11:39:04.717308Z"
    }
   },
   "outputs": [
    {
     "name": "stdout",
     "output_type": "stream",
     "text": [
      "(1437, 64)\n",
      "(360, 64)\n",
      "(1437,)\n",
      "(360,)\n"
     ]
    }
   ],
   "source": [
    "print(X_train.shape)\n",
    "print(X_test.shape)\n",
    "print(y_train.shape)\n",
    "print(y_test.shape)"
   ]
  },
  {
   "cell_type": "code",
   "execution_count": 41,
   "metadata": {
    "ExecuteTime": {
     "end_time": "2021-02-18T11:39:05.223051Z",
     "start_time": "2021-02-18T11:39:05.213452Z"
    }
   },
   "outputs": [],
   "source": [
    "from sklearn.preprocessing import StandardScaler\n",
    "\n",
    "stdx = StandardScaler()"
   ]
  },
  {
   "cell_type": "code",
   "execution_count": 42,
   "metadata": {
    "ExecuteTime": {
     "end_time": "2021-02-18T11:39:10.504283Z",
     "start_time": "2021-02-18T11:39:10.496006Z"
    }
   },
   "outputs": [],
   "source": [
    "X_train = stdx.fit_transform(X_train)\n",
    "X_test = stdx.transform(X_test)"
   ]
  },
  {
   "cell_type": "markdown",
   "metadata": {
    "id": "wI_h6KnSYu-Y"
   },
   "source": [
    "# Cross entropy"
   ]
  },
  {
   "cell_type": "markdown",
   "metadata": {
    "id": "A_5bOoQGj7pj"
   },
   "source": [
    "Nous sommes cette fois-ci en présence d'un problème de classification.  \n",
    "La fonction de perte MSE n'est plus appropriée pour notre problème.  \n",
    "Nous allons utiliser ici la [cross-entropy.](https://en.wikipedia.org/wiki/Cross_entropy#Cross-entropy_loss_function_and_logistic_regression) comme fonction de perte:  \n",
    "En considerant que notre réseau produit en sortie un vecteur $\\hat{y}$ de dimension $C$.  \n",
    "Où $C$ correspond au nombre de neurones de la couche de sortie (chaque neurone correspond à une classe).  \n",
    "Alors la cross-entropy entre le vecteur prédit par le réseau et la véritable classe notée $c$ peut s'écrire:\n",
    "\n",
    "\n",
    "$$\n",
    "\\begin{align}\n",
    " L(\\hat{y}, c) &= -log(\\frac{e^{\\hat{y_c}}}{\\sum_{i}^{C}e^\\hat{y_c}_k}) \\\\ \n",
    " &= - \\hat{y_c} + log(\\sum_{i}^{C}e^\\hat{y_c}_k)\n",
    " \\end{align}\n",
    " $$"
   ]
  },
  {
   "cell_type": "code",
   "execution_count": 43,
   "metadata": {
    "ExecuteTime": {
     "end_time": "2021-02-18T11:39:11.655382Z",
     "start_time": "2021-02-18T11:39:11.641083Z"
    },
    "id": "7YtvoQXJYu-Z"
   },
   "outputs": [],
   "source": [
    "def softmax(x):\n",
    "    return np.exp(x) / np.exp(x).sum(axis=-1, keepdims=True)\n",
    "\n",
    "\n",
    "class CrossEntropy():\n",
    "\n",
    "    def loss(self, logits, y_true):\n",
    "        logits_for_answers = logits[np.arange(len(logits)), y_true]\n",
    "        xentropy = - logits_for_answers + np.log(np.sum(np.exp(logits),axis=-1))\n",
    "        return xentropy\n",
    "    \n",
    "    def grad(self, logits, y_true):\n",
    "        ones_for_answers = np.zeros_like(logits)\n",
    "        ones_for_answers[np.arange(len(logits)), y_true] = 1\n",
    "        y_softmax = softmax(logits)\n",
    "        return (-ones_for_answers + y_softmax) / logits.shape[0]"
   ]
  },
  {
   "cell_type": "markdown",
   "metadata": {
    "id": "U8xZnIx-Yu-Z"
   },
   "source": [
    "Instanciez un reseau de neurones capable de prédire la classe d'une image:"
   ]
  },
  {
   "cell_type": "code",
   "execution_count": 44,
   "metadata": {
    "ExecuteTime": {
     "end_time": "2021-02-18T11:39:12.491721Z",
     "start_time": "2021-02-18T11:39:12.486809Z"
    },
    "id": "RFI-CK_nYu-Z"
   },
   "outputs": [],
   "source": [
    "layer1 = Linear(64, 128)\n",
    "activ1 = Activation(relu, relu_prime)\n",
    "layer2 = Linear(128, 10)\n",
    "\n",
    "net = NeuralNetwork([layer1, activ1, layer2])\n",
    "optimizer = SGD(lr=0.05)\n",
    "loss = CrossEntropy()"
   ]
  },
  {
   "cell_type": "markdown",
   "metadata": {
    "id": "5fW0mhhEYu-Z"
   },
   "source": [
    "Calculez la précision de votre réseau sur le jeu de test. (Vous pouvez pour cela utiliser la fonction [acuracy_score](https://scikit-learn.org/stable/modules/generated/sklearn.metrics.accuracy_score.html) de scikit-learn)"
   ]
  },
  {
   "cell_type": "code",
   "execution_count": 45,
   "metadata": {
    "ExecuteTime": {
     "end_time": "2021-02-18T11:39:16.951263Z",
     "start_time": "2021-02-18T11:39:13.972015Z"
    },
    "id": "PrdGFeELYu-Z"
   },
   "outputs": [
    {
     "name": "stdout",
     "output_type": "stream",
     "text": [
      "epoch 1 : 0.8888888888888888\n",
      "epoch 2 : 0.9472222222222222\n",
      "epoch 3 : 0.9472222222222222\n",
      "epoch 4 : 0.9583333333333334\n",
      "epoch 5 : 0.9472222222222222\n",
      "epoch 6 : 0.9444444444444444\n",
      "epoch 7 : 0.9611111111111111\n",
      "epoch 8 : 0.9361111111111111\n",
      "epoch 9 : 0.9361111111111111\n",
      "epoch 10 : 0.9638888888888889\n"
     ]
    }
   ],
   "source": [
    "from sklearn.metrics import accuracy_score\n",
    "\n",
    "layer1 = Linear(64, 128)\n",
    "activ1 = Activation(relu, relu_prime)\n",
    "layer2 = Linear(128, 10)\n",
    "\n",
    "net = NeuralNetwork([layer1, activ1, layer2])\n",
    "optimizer = SGD(lr=0.05)\n",
    "loss = CrossEntropy()\n",
    "\n",
    "for epoch in range(10):\n",
    "    for i, (x, y) in enumerate(zip(X_train, y_train)):\n",
    "        training_loss = fit(net, loss, optimizer, np.array([x]), np.array([y]))\n",
    "\n",
    "    y_pred = net.forward(X_test)\n",
    "    y_pred = [np.argmax(y_p) for y_p in y_pred]\n",
    "    \n",
    "    print(f\"epoch {epoch+1} : {accuracy_score(y_pred, y_test)}\")"
   ]
  },
  {
   "cell_type": "markdown",
   "metadata": {},
   "source": [
    "<font : color=\"blue\">\n",
    "    On créer une image manuellement et on test le modèle."
   ]
  },
  {
   "cell_type": "code",
   "execution_count": 46,
   "metadata": {
    "ExecuteTime": {
     "end_time": "2021-02-18T11:39:46.657031Z",
     "start_time": "2021-02-18T11:39:46.652390Z"
    }
   },
   "outputs": [],
   "source": [
    "Z = np.array([[0, 0, 0, 0, 0, 0, 0, 0],\n",
    "              [0, 1, 0, 0, 0, 0, 0, 0],\n",
    "              [0, 1, 0, 0, 0, 0, 0, 0],\n",
    "              [0, 1, 0, 0, 0, 0, 0, 0],\n",
    "              [0, 1, 0, 1, 0, 0, 0, 0],\n",
    "              [0, 1, 1, 1, 1, 0, 0, 0],\n",
    "              [0, 0, 0, 1, 0, 0, 0, 0],\n",
    "              [0, 0, 0, 1, 0, 0, 0, 0]])"
   ]
  },
  {
   "cell_type": "code",
   "execution_count": 47,
   "metadata": {
    "ExecuteTime": {
     "end_time": "2021-02-18T11:39:47.062012Z",
     "start_time": "2021-02-18T11:39:46.862624Z"
    }
   },
   "outputs": [
    {
     "data": {
      "image/png": "[encoded data removed]",
      "text/plain": [
       "<Figure size 432x288 with 1 Axes>"
      ]
     },
     "metadata": {
      "needs_background": "light"
     },
     "output_type": "display_data"
    }
   ],
   "source": [
    "plt.imshow(Z, cmap='gray')\n",
    "plt.show()"
   ]
  },
  {
   "cell_type": "code",
   "execution_count": 48,
   "metadata": {
    "ExecuteTime": {
     "end_time": "2021-02-18T11:39:47.493744Z",
     "start_time": "2021-02-18T11:39:47.483575Z"
    }
   },
   "outputs": [
    {
     "data": {
      "text/plain": [
       "8"
      ]
     },
     "execution_count": 48,
     "metadata": {},
     "output_type": "execute_result"
    }
   ],
   "source": [
    "P = net.forward(Z.reshape(64))\n",
    "np.argmax(P)"
   ]
  },
  {
   "cell_type": "markdown",
   "metadata": {
    "id": "pssRXNVFYu-Z"
   },
   "source": [
    "La fonction suivante permet de visualiser nos prédictions"
   ]
  },
  {
   "cell_type": "code",
   "execution_count": 49,
   "metadata": {
    "ExecuteTime": {
     "end_time": "2021-02-18T11:39:50.612245Z",
     "start_time": "2021-02-18T11:39:50.603952Z"
    },
    "id": "TBl1SMEwYu-a"
   },
   "outputs": [],
   "source": [
    "def plot_prediction(net, sample_idx=range(3), classes=range(10)):\n",
    "    \n",
    "    for idx in sample_idx:\n",
    "        logits = net.forward(X_test[idx])\n",
    "        probas = softmax(logits)\n",
    "        prediction = np.argmax(probas)\n",
    "\n",
    "        fig, (ax0, ax1) = plt.subplots(nrows=1, ncols=2, figsize=(10, 4))\n",
    "\n",
    "        ax0.imshow(stdx.inverse_transform(X_test[idx]).reshape(8, 8), cmap=plt.cm.gray_r,\n",
    "                   interpolation='nearest')\n",
    "        ax0.set_title(\"True image label: %d\" % y_test[idx]);\n",
    "        ax1.bar(classes, np.eye(len(classes))[y_test[idx]], label='true')\n",
    "        ax1.bar(classes, probas, label='prediction', color=\"red\")\n",
    "        ax1.set_xticks(classes)\n",
    "\n",
    "        ax1.set_title('Output probabilities (prediction: %d)'\n",
    "                      % prediction)\n",
    "        ax1.set_xlabel('Digit class')\n",
    "        ax1.legend()"
   ]
  },
  {
   "cell_type": "code",
   "execution_count": 50,
   "metadata": {
    "ExecuteTime": {
     "end_time": "2021-02-18T11:39:52.333350Z",
     "start_time": "2021-02-18T11:39:51.183460Z"
    },
    "id": "M8bYhAUZYu-b"
   },
   "outputs": [
    {
     "data": {
      "image/png": "[encoded data removed]",
      "text/plain": [
       "<Figure size 720x288 with 2 Axes>"
      ]
     },
     "metadata": {
      "needs_background": "light"
     },
     "output_type": "display_data"
    },
    {
     "data": {
      "image/png": "[encoded data removed]",
      "text/plain": [
       "<Figure size 720x288 with 2 Axes>"
      ]
     },
     "metadata": {
      "needs_background": "light"
     },
     "output_type": "display_data"
    },
    {
     "data": {
      "image/png": "[encoded data removed]",
      "text/plain": [
       "<Figure size 720x288 with 2 Axes>"
      ]
     },
     "metadata": {
      "needs_background": "light"
     },
     "output_type": "display_data"
    }
   ],
   "source": [
    "plot_prediction(net, sample_idx=range(3))"
   ]
  },
  {
   "cell_type": "markdown",
   "metadata": {
    "id": "-BJzay6XYu-b"
   },
   "source": [
    "Nous allons cette fois-çi, utiliser des mini-batchs durant notre apprentissage.  \n",
    "La fonction suivante permet d' itérer sur des mini-batchs:"
   ]
  },
  {
   "cell_type": "code",
   "execution_count": 51,
   "metadata": {
    "ExecuteTime": {
     "end_time": "2021-02-18T11:39:53.144512Z",
     "start_time": "2021-02-18T11:39:53.139417Z"
    },
    "id": "eb6IPkWhYu-b"
   },
   "outputs": [],
   "source": [
    "def iterate_minibatches(inputs, targets, batchsize, shuffle=True):\n",
    "    assert inputs.shape[0] == targets.shape[0]\n",
    "    if shuffle:\n",
    "        indices = np.arange(inputs.shape[0])\n",
    "        npr.shuffle(indices)\n",
    "    for start_idx in range(0, inputs.shape[0] - batchsize + 1, batchsize):\n",
    "        if shuffle:\n",
    "            excerpt = indices[start_idx:start_idx + batchsize]\n",
    "        else:\n",
    "            excerpt = slice(start_idx, start_idx + batchsize)\n",
    "        yield inputs[excerpt], targets[excerpt]"
   ]
  },
  {
   "cell_type": "markdown",
   "metadata": {
    "id": "sUI7wDcFYu-b"
   },
   "source": [
    "Et la fonction suivant de réaliser une époque d'apprentissage à l'aide de mini-batchs:"
   ]
  },
  {
   "cell_type": "code",
   "execution_count": 52,
   "metadata": {
    "ExecuteTime": {
     "end_time": "2021-02-18T11:40:00.207984Z",
     "start_time": "2021-02-18T11:40:00.195032Z"
    },
    "id": "zcHEdyz6Yu-b"
   },
   "outputs": [],
   "source": [
    "def fit_one_epoch(X, y_true, batchsize, shuffle=True):\n",
    "    for x, y in iterate_minibatches(X, y_true, batchsize, shuffle):\n",
    "        training_loss = fit(net, loss, optimizer, x, y)\n",
    "        \n",
    "    return training_loss.mean()"
   ]
  },
  {
   "cell_type": "markdown",
   "metadata": {
    "id": "UXVuh04wYu-b"
   },
   "source": [
    "Entrainez votre reseau sur 15 époques.  \n",
    "A chaque époque, calculez votre précision sur le jeu de d'apprentissage et sur le jeu de test et affichez les sur un même graphique une fois l'entrainement terminé."
   ]
  },
  {
   "cell_type": "code",
   "execution_count": 53,
   "metadata": {
    "ExecuteTime": {
     "end_time": "2021-02-18T11:40:07.422984Z",
     "start_time": "2021-02-18T11:40:04.690627Z"
    },
    "id": "2RNxTrCGYu-c"
   },
   "outputs": [
    {
     "data": {
      "image/png": "[encoded data removed]",
      "text/plain": [
       "<Figure size 432x288 with 1 Axes>"
      ]
     },
     "metadata": {
      "needs_background": "light"
     },
     "output_type": "display_data"
    }
   ],
   "source": [
    "nb_epoch = 30\n",
    "\n",
    "Ly_pred_train = []\n",
    "Ly_pred_test = []\n",
    "\n",
    "layer1 = Linear(64, 128)\n",
    "activ1 = Activation(relu, relu_prime)\n",
    "layer2 = Linear(128, 10)\n",
    "\n",
    "net = NeuralNetwork([layer1, activ1, layer2])\n",
    "optimizer = SGD(lr=0.05)\n",
    "loss = CrossEntropy()\n",
    "\n",
    "for epoch in range(1, nb_epoch+1):\n",
    "    y_pred_train = net.forward(X_train)\n",
    "    y_pred_train = np.array([np.argmax(y_p) for y_p in y_pred_train])\n",
    "    Ly_pred_train.append(accuracy_score(y_pred_train, y_train))\n",
    "    \n",
    "    y_pred_test = net.forward(X_test)\n",
    "    y_pred_test = np.array([np.argmax(y_p) for y_p in y_pred_test])\n",
    "    Ly_pred_test.append(accuracy_score(y_pred_test, y_test))\n",
    "    \n",
    "    #on entraine\n",
    "    t = fit_one_epoch(X_train, y_train, 5)\n",
    "    \n",
    "plt.plot(range(nb_epoch), Ly_pred_train, label=\"train\")\n",
    "plt.plot(range(nb_epoch), Ly_pred_test, label=\"test\")\n",
    "plt.xlabel(\"epoch\")\n",
    "plt.ylabel(\"accuracy\")\n",
    "plt.legend()\n",
    "plt.show()"
   ]
  },
  {
   "cell_type": "markdown",
   "metadata": {
    "id": "4l_XpelIYu-c"
   },
   "source": [
    "Affichez votre précision sur le jeu de test et visualisez vos prédiction à l'aide de la fonction plot_prediction)\n",
    "\n",
    "<font : color=\"blue\">\n",
    "    On a déjà afficher la précision sur le jeu de test à la question précédente."
   ]
  },
  {
   "cell_type": "code",
   "execution_count": 54,
   "metadata": {
    "ExecuteTime": {
     "end_time": "2021-02-18T11:40:25.792694Z",
     "start_time": "2021-02-18T11:40:24.550769Z"
    },
    "id": "kfFX30iMYu-c"
   },
   "outputs": [
    {
     "data": {
      "image/png": "[encoded data removed]",
      "text/plain": [
       "<Figure size 720x288 with 2 Axes>"
      ]
     },
     "metadata": {
      "needs_background": "light"
     },
     "output_type": "display_data"
    },
    {
     "data": {
      "image/png": "[encoded data removed]",
      "text/plain": [
       "<Figure size 720x288 with 2 Axes>"
      ]
     },
     "metadata": {
      "needs_background": "light"
     },
     "output_type": "display_data"
    },
    {
     "data": {
      "image/png": "[encoded data removed]",
      "text/plain": [
       "<Figure size 720x288 with 2 Axes>"
      ]
     },
     "metadata": {
      "needs_background": "light"
     },
     "output_type": "display_data"
    }
   ],
   "source": [
    "plot_prediction(net, sample_idx=range(3))"
   ]
  },
  {
   "cell_type": "markdown",
   "metadata": {
    "id": "4AYe1bNcYu-d"
   },
   "source": [
    "Essayez d'afficher votre matrice de confusion en vous inspirant de [ce code:](https://scikit-learn.org/dev/auto_examples/classification/plot_digits_classification.html#sphx-glr-auto-examples-classification-plot-digits-classification-py) "
   ]
  },
  {
   "cell_type": "code",
   "execution_count": 55,
   "metadata": {
    "ExecuteTime": {
     "end_time": "2021-02-18T11:41:33.131477Z",
     "start_time": "2021-02-18T11:41:32.172815Z"
    }
   },
   "outputs": [
    {
     "data": {
      "image/png": "[encoded data removed]",
      "text/plain": [
       "<Figure size 432x288 with 2 Axes>"
      ]
     },
     "metadata": {
      "needs_background": "light"
     },
     "output_type": "display_data"
    }
   ],
   "source": [
    "from sklearn.metrics import confusion_matrix\n",
    "from sklearn.metrics import ConfusionMatrixDisplay\n",
    "\n",
    "cm = confusion_matrix(y_test, y_pred, labels=dataset.target_names)\n",
    "disp = ConfusionMatrixDisplay(confusion_matrix=cm, display_labels=dataset.target_names)\n",
    "disp.plot()\n",
    "plt.show()"
   ]
  },
  {
   "cell_type": "markdown",
   "metadata": {
    "id": "up4JIwLAYu-d"
   },
   "source": [
    "Affichez les exemples sur lesquels le réseau se trompe.  \n",
    "Auriez-vous donné une meilleure prédiction que le réseau sur ces exemples?"
   ]
  },
  {
   "cell_type": "code",
   "execution_count": 56,
   "metadata": {
    "ExecuteTime": {
     "end_time": "2021-02-18T11:41:42.042297Z",
     "start_time": "2021-02-18T11:41:42.038258Z"
    },
    "id": "7zlS8-saYu-d"
   },
   "outputs": [],
   "source": [
    "y_pred = np.array(y_pred)\n",
    "\n",
    "error_indice = np.where(y_test != y_pred)[0]\n",
    "X_error = X_test[error_indice]\n",
    "y_test_error = y_test[error_indice]\n",
    "y_pred_error = y_pred[error_indice]"
   ]
  },
  {
   "cell_type": "code",
   "execution_count": 57,
   "metadata": {
    "ExecuteTime": {
     "end_time": "2021-02-18T11:41:42.386334Z",
     "start_time": "2021-02-18T11:41:42.379130Z"
    }
   },
   "outputs": [
    {
     "name": "stdout",
     "output_type": "stream",
     "text": [
      "[ 90 108 109 118 124 130 131 143 181 189 232 279 343]\n"
     ]
    }
   ],
   "source": [
    "print(error_indice)"
   ]
  },
  {
   "cell_type": "code",
   "execution_count": 58,
   "metadata": {
    "ExecuteTime": {
     "end_time": "2021-02-18T11:41:46.612071Z",
     "start_time": "2021-02-18T11:41:42.856241Z"
    },
    "scrolled": false
   },
   "outputs": [
    {
     "data": {
      "image/png": "[encoded data removed]",
      "text/plain": [
       "<Figure size 432x288 with 1 Axes>"
      ]
     },
     "metadata": {
      "needs_background": "light"
     },
     "output_type": "display_data"
    },
    {
     "data": {
      "image/png": "[encoded data removed]",
      "text/plain": [
       "<Figure size 432x288 with 1 Axes>"
      ]
     },
     "metadata": {
      "needs_background": "light"
     },
     "output_type": "display_data"
    },
    {
     "data": {
      "image/png": "[encoded data removed]",
      "text/plain": [
       "<Figure size 432x288 with 1 Axes>"
      ]
     },
     "metadata": {
      "needs_background": "light"
     },
     "output_type": "display_data"
    },
    {
     "data": {
      "image/png": "[encoded data removed]",
      "text/plain": [
       "<Figure size 432x288 with 1 Axes>"
      ]
     },
     "metadata": {
      "needs_background": "light"
     },
     "output_type": "display_data"
    },
    {
     "data": {
      "image/png": "[encoded data removed]",
      "text/plain": [
       "<Figure size 432x288 with 1 Axes>"
      ]
     },
     "metadata": {
      "needs_background": "light"
     },
     "output_type": "display_data"
    },
    {
     "data": {
      "image/png": "[encoded data removed]",
      "text/plain": [
       "<Figure size 432x288 with 1 Axes>"
      ]
     },
     "metadata": {
      "needs_background": "light"
     },
     "output_type": "display_data"
    },
    {
     "data": {
      "image/png": "[encoded data removed]",
      "text/plain": [
       "<Figure size 432x288 with 1 Axes>"
      ]
     },
     "metadata": {
      "needs_background": "light"
     },
     "output_type": "display_data"
    },
    {
     "data": {
      "image/png": "[encoded data removed]",
      "text/plain": [
       "<Figure size 432x288 with 1 Axes>"
      ]
     },
     "metadata": {
      "needs_background": "light"
     },
     "output_type": "display_data"
    },
    {
     "data": {
      "image/png": "[encoded data removed]",
      "text/plain": [
       "<Figure size 432x288 with 1 Axes>"
      ]
     },
     "metadata": {
      "needs_background": "light"
     },
     "output_type": "display_data"
    },
    {
     "data": {
      "image/png": "[encoded data removed]",
      "text/plain": [
       "<Figure size 432x288 with 1 Axes>"
      ]
     },
     "metadata": {
      "needs_background": "light"
     },
     "output_type": "display_data"
    },
    {
     "data": {
      "image/png": "[encoded data removed]",
      "text/plain": [
       "<Figure size 432x288 with 1 Axes>"
      ]
     },
     "metadata": {
      "needs_background": "light"
     },
     "output_type": "display_data"
    },
    {
     "data": {
      "image/png": "[encoded data removed]",
      "text/plain": [
       "<Figure size 432x288 with 1 Axes>"
      ]
     },
     "metadata": {
      "needs_background": "light"
     },
     "output_type": "display_data"
    },
    {
     "data": {
      "image/png": "[encoded data removed]",
      "text/plain": [
       "<Figure size 432x288 with 1 Axes>"
      ]
     },
     "metadata": {
      "needs_background": "light"
     },
     "output_type": "display_data"
    }
   ],
   "source": [
    "for i in range(len(error_indice)):\n",
    "    plt.title(\"vrai label : \" + str(y_test_error[i]) + \"\\n\" + \"prediction : \" + str(y_pred_error[i]))\n",
    "    plt.imshow(X_error[i].reshape(8,8), cmap='gray')\n",
    "    plt.show()"
   ]
  },
  {
   "cell_type": "markdown",
   "metadata": {},
   "source": [
    "<font : color=\"blue\">\n",
    "    Non j'aurais pas fais mieux, ces images sont difficiles à labeliser."
   ]
  },
  {
   "cell_type": "code",
   "execution_count": null,
   "metadata": {},
   "outputs": [],
   "source": []
  }
 ],
 "metadata": {
  "colab": {
   "include_colab_link": true,
   "name": "TP1_MAPI3_sujet.ipynb",
   "provenance": []
  },
  "kernelspec": {
   "display_name": "Python 3 (ipykernel)",
   "language": "python",
   "name": "python3"
  },
  "language_info": {
   "codemirror_mode": {
    "name": "ipython",
    "version": 3
   },
   "file_extension": ".py",
   "mimetype": "text/x-python",
   "name": "python",
   "nbconvert_exporter": "python",
   "pygments_lexer": "ipython3",
   "version": "3.9.7"
  },
  "varInspector": {
   "cols": {
    "lenName": 16,
    "lenType": 16,
    "lenVar": 40
   },
   "kernels_config": {
    "python": {
     "delete_cmd_postfix": "",
     "delete_cmd_prefix": "del ",
     "library": "var_list.py",
     "varRefreshCmd": "print(var_dic_list())"
    },
    "r": {
     "delete_cmd_postfix": ") ",
     "delete_cmd_prefix": "rm(",
     "library": "var_list.r",
     "varRefreshCmd": "cat(var_dic_list()) "
    }
   },
   "types_to_exclude": [
    "module",
    "function",
    "builtin_function_or_method",
    "instance",
    "_Feature"
   ],
   "window_display": false
  }
 },
 "nbformat": 4,
 "nbformat_minor": 1
}
